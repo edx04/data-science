{
  "nbformat": 4,
  "nbformat_minor": 0,
  "metadata": {
    "colab": {
      "name": "FuncionesArellano.ipynb",
      "provenance": [],
      "authorship_tag": "ABX9TyMIACGm39zB2K/EzblkhPe4",
      "include_colab_link": true
    },
    "kernelspec": {
      "name": "python3",
      "display_name": "Python 3"
    },
    "language_info": {
      "name": "python"
    }
  },
  "cells": [
    {
      "cell_type": "markdown",
      "metadata": {
        "id": "view-in-github",
        "colab_type": "text"
      },
      "source": [
        "<a href=\"https://colab.research.google.com/github/edx04/data-science/blob/main/FuncionesArellano.ipynb\" target=\"_parent\"><img src=\"https://colab.research.google.com/assets/colab-badge.svg\" alt=\"Open In Colab\"/></a>"
      ]
    },
    {
      "cell_type": "code",
      "execution_count": 1,
      "metadata": {
        "id": "7QHf_PIxNHTq"
      },
      "outputs": [],
      "source": [
        "def factorial(num):\n",
        "  if num == 0:\n",
        "    return 1\n",
        "  return num * factorial(num - 1)"
      ]
    },
    {
      "cell_type": "code",
      "source": [
        "res = factorial(5)\n",
        "\n",
        "print(res)"
      ],
      "metadata": {
        "colab": {
          "base_uri": "https://localhost:8080/"
        },
        "id": "qKjzLMNBN8h6",
        "outputId": "7cbf4cf9-c98b-4653-941c-d01e56a55d5c"
      },
      "execution_count": 4,
      "outputs": [
        {
          "output_type": "stream",
          "name": "stdout",
          "text": [
            "120\n"
          ]
        }
      ]
    },
    {
      "cell_type": "code",
      "source": [
        "def suma_serie(num1,num2):\n",
        "  total = 0\n",
        "  while num1 <= num2:\n",
        "    total += num1\n",
        "    num1 += 1\n",
        "  return total\n",
        "  "
      ],
      "metadata": {
        "id": "EX3Wx4T1N-TZ"
      },
      "execution_count": 5,
      "outputs": []
    },
    {
      "cell_type": "code",
      "source": [
        "res2 = suma_serie(1,3)\n",
        "print(res2)"
      ],
      "metadata": {
        "colab": {
          "base_uri": "https://localhost:8080/"
        },
        "id": "pOmOgwdqOqIX",
        "outputId": "d7d4ed77-f208-452c-cd96-deed3a04b58a"
      },
      "execution_count": 8,
      "outputs": [
        {
          "output_type": "stream",
          "name": "stdout",
          "text": [
            "6\n"
          ]
        }
      ]
    },
    {
      "cell_type": "code",
      "source": [
        ""
      ],
      "metadata": {
        "id": "mAJ-xN0qOs5w"
      },
      "execution_count": null,
      "outputs": []
    }
  ]
}