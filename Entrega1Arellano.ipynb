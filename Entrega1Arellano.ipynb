{
  "nbformat": 4,
  "nbformat_minor": 0,
  "metadata": {
    "colab": {
      "name": "Entrega1Arellano.ipynb",
      "provenance": [],
      "collapsed_sections": [],
      "authorship_tag": "ABX9TyO6L+gBeYJEJINoFOnRbF/L",
      "include_colab_link": true
    },
    "kernelspec": {
      "name": "python3",
      "display_name": "Python 3"
    },
    "language_info": {
      "name": "python"
    }
  },
  "cells": [
    {
      "cell_type": "markdown",
      "metadata": {
        "id": "view-in-github",
        "colab_type": "text"
      },
      "source": [
        "<a href=\"https://colab.research.google.com/github/edx04/data-science/blob/main/Entrega1Arellano.ipynb\" target=\"_parent\"><img src=\"https://colab.research.google.com/assets/colab-badge.svg\" alt=\"Open In Colab\"/></a>"
      ]
    },
    {
      "cell_type": "markdown",
      "source": [
        "#**Detección de fraude en reclamaciones de seguro de automoviles** "
      ],
      "metadata": {
        "id": "EkeJEY9b6bFK"
      }
    },
    {
      "cell_type": "markdown",
      "source": [
        "# Presentacion del problema\n"
      ],
      "metadata": {
        "id": "sjlvmObyVvJe"
      }
    },
    {
      "cell_type": "markdown",
      "source": [
        "\n",
        "\n",
        "El fraude en la industria de los seguros ha mantenido su ritmo de crecimiento en los últimos años y a pesar de todas las tecnologías existentes no se ha podido disminuir el crecimiento y se hace cada vez más difícil su detección, pues los esquemas utilizados por los defraudadores siguen evolucionando.\n",
        "\n",
        "Hoy en día, el fraude sigue siendo un gran problema para las aseguradoras. Tan solo en el 2019 en México se tuvo una pérdida de 430 millones de pesos en los seguros de automóviles ligados al fraude. Por lo cual, es necesario empezar a controlar estos reclamos. Esto se puede lograr a través de auditorías, sin embargo, debido a su costo, no es posible auditar todas las reclamaciones.\n",
        "\n",
        "Por ello, una de las soluciones es hacer uso de modelos de aprendizaje máquina. El objetivo de este proyecto es investigar, analizar y evaluar el impacto que tienen los fraudes en los seguros de automóviles en la sociedad, así como analizar posteriormente diferentes modelos de aprendizaje máquina para poder predecir fraudes en automóviles para poder así prevenirlos y lograr una reducción en los costos de operación de las aseguradoras, misma que debería de reflejarse en una reducción de las primas, beneficiando así a los asegurados."
      ],
      "metadata": {
        "id": "KlurkMT4Vx65"
      }
    },
    {
      "cell_type": "markdown",
      "source": [
        "# PREGUNTAS CLAVES\n",
        "\n",
        "    ¿Con qué modelo de carro se comenten más fraudes?\n",
        "    ¿En qué estado se cometen más fraudes?\n",
        "    ¿En qué rango de edad la gente es más propensa a cometer fraudes?\n",
        "    ¿En los casos de fraude en promedio de cuanto es la cantidad reclamada?\n",
        "    ¿Entre qué horas se comete el mayor número de fraudes?\n",
        "    ¿Quiénes son más propensos a cometer fraude hombres o mujeres?\n",
        "    ¿Cuantos meses como cliente en promedio tiene la gente que comete fraude?\n",
        "    ¿Cual es el Nivel educativo de las personas que cometen fraude?\n",
        "    ¿Cual es la ocupación más común de las personas que cometen fraude?\n",
        "    ¿En los casos de fraude cuál fue la gravedad del accidente?\n",
        "    ¿En los casos de fraude hubo testigos?\n",
        "\n",
        "Pero la pregunta principal:\n",
        "¿Cual de los factores mencionados anteriormente tiene más impacto?\n",
        "\n",
        "Con base en las preguntas anteriores, se podría determinar como ASEGURADORA si las reclamaciones que se realizan día con día son fraude o no y así, verificar y prestar más atención a las variables antes mencionadas.\n",
        "\n",
        "De acuerdo con los puntos anteriores y el impacto que tienen los fraudes en los seguros de automóviles en la sociedad, con este proyecto se busca analizar e investigar diferentes modelos de aprendizaje máquina para predecir fraudes en las reclamaciones de los seguros de automóviles, para poder así prevenirlos y lograr una reducción en los costos de operación de las aseguradoras, mismas que deberían reflejarse en una reducción en las primas, beneficiando así a los asegurados.\n"
      ],
      "metadata": {
        "id": "kXT6Rm1jXQ1D"
      }
    },
    {
      "cell_type": "markdown",
      "source": [
        "# Seleccion Dataset"
      ],
      "metadata": {
        "id": "wRMABiTDXn76"
      }
    },
    {
      "cell_type": "markdown",
      "source": [
        "El dataset que se va usar es "
      ],
      "metadata": {
        "id": "_o6Boba5XrCc"
      }
    },
    {
      "cell_type": "code",
      "execution_count": 3,
      "metadata": {
        "id": "yO-P2M1Wy5Nm"
      },
      "outputs": [],
      "source": [
        ""
      ]
    },
    {
      "cell_type": "code",
      "source": [
        ""
      ],
      "metadata": {
        "id": "-ScIlSeB6Zst"
      },
      "execution_count": null,
      "outputs": []
    }
  ]
}