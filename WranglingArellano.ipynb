{
  "nbformat": 4,
  "nbformat_minor": 0,
  "metadata": {
    "colab": {
      "name": "WranglingArellano.ipynb",
      "provenance": [],
      "authorship_tag": "ABX9TyOg6kRFo04KSseTl6CPS1vQ",
      "include_colab_link": true
    },
    "kernelspec": {
      "name": "python3",
      "display_name": "Python 3"
    },
    "language_info": {
      "name": "python"
    }
  },
  "cells": [
    {
      "cell_type": "markdown",
      "metadata": {
        "id": "view-in-github",
        "colab_type": "text"
      },
      "source": [
        "<a href=\"https://colab.research.google.com/github/edx04/data-science/blob/main/WranglingArellano.ipynb\" target=\"_parent\"><img src=\"https://colab.research.google.com/assets/colab-badge.svg\" alt=\"Open In Colab\"/></a>"
      ]
    },
    {
      "cell_type": "code",
      "execution_count": 1,
      "metadata": {
        "id": "WwWwJS90CSsU"
      },
      "outputs": [],
      "source": [
        "import pandas as pd"
      ]
    },
    {
      "cell_type": "code",
      "source": [
        "w_data = pd.read_csv('https://raw.githubusercontent.com/edx04/data-science/main/data/w_data.csv', sep=';')\n",
        "p_data = pd.read_csv('https://raw.githubusercontent.com/edx04/data-science/main/data/p_data.csv', sep=';')"
      ],
      "metadata": {
        "id": "6kZ-nHUKYgwD"
      },
      "execution_count": 2,
      "outputs": []
    },
    {
      "cell_type": "markdown",
      "source": [
        "#1 Cuantos ID tienen en común. Nombrar cuales no tienen en común"
      ],
      "metadata": {
        "id": "dCE6gGBafj6u"
      }
    },
    {
      "cell_type": "code",
      "source": [
        "result = pd.merge(w_data, p_data, on='ID')\n",
        "result.head()"
      ],
      "metadata": {
        "colab": {
          "base_uri": "https://localhost:8080/",
          "height": 206
        },
        "id": "LXqg5yoZY2a0",
        "outputId": "13544dab-f6b5-4b0a-b6a9-be4fd96dc551"
      },
      "execution_count": 3,
      "outputs": [
        {
          "output_type": "execute_result",
          "data": {
            "text/plain": [
              "           Workclass    fnlwgt  Capital Gain  Capital Loss  Hours per week  \\\n",
              "0          State-gov   77516.0        2174.0           0.0            40.0   \n",
              "1   Self-emp-not-inc   83311.0           0.0           0.0            13.0   \n",
              "2            Private  215646.0           0.0           0.0            40.0   \n",
              "3            Private  234721.0           0.0           0.0            40.0   \n",
              "4            Private  338409.0           0.0           0.0            40.0   \n",
              "\n",
              "       ID  Target   Age      Sex    Race         Country   Education  \\\n",
              "0   49084   <=50K  39.0     Male   White   United-States   Bachelors   \n",
              "1   68553   <=50K  50.0     Male   White   United-States   Bachelors   \n",
              "2  143654   <=50K  38.0     Male   White   United-States     HS-grad   \n",
              "3   41510   <=50K  53.0     Male   Black   United-States        11th   \n",
              "4  195025   <=50K  28.0   Female   Black            Cuba   Bachelors   \n",
              "\n",
              "   Education-Num       Marital Status    Relationship  \n",
              "0           13.0        Never-married   Not-in-family  \n",
              "1           13.0   Married-civ-spouse         Husband  \n",
              "2            9.0             Divorced   Not-in-family  \n",
              "3            7.0   Married-civ-spouse         Husband  \n",
              "4           13.0   Married-civ-spouse            Wife  "
            ],
            "text/html": [
              "\n",
              "  <div id=\"df-63adbf6b-687f-4c3b-b498-3c588baed890\">\n",
              "    <div class=\"colab-df-container\">\n",
              "      <div>\n",
              "<style scoped>\n",
              "    .dataframe tbody tr th:only-of-type {\n",
              "        vertical-align: middle;\n",
              "    }\n",
              "\n",
              "    .dataframe tbody tr th {\n",
              "        vertical-align: top;\n",
              "    }\n",
              "\n",
              "    .dataframe thead th {\n",
              "        text-align: right;\n",
              "    }\n",
              "</style>\n",
              "<table border=\"1\" class=\"dataframe\">\n",
              "  <thead>\n",
              "    <tr style=\"text-align: right;\">\n",
              "      <th></th>\n",
              "      <th>Workclass</th>\n",
              "      <th>fnlwgt</th>\n",
              "      <th>Capital Gain</th>\n",
              "      <th>Capital Loss</th>\n",
              "      <th>Hours per week</th>\n",
              "      <th>ID</th>\n",
              "      <th>Target</th>\n",
              "      <th>Age</th>\n",
              "      <th>Sex</th>\n",
              "      <th>Race</th>\n",
              "      <th>Country</th>\n",
              "      <th>Education</th>\n",
              "      <th>Education-Num</th>\n",
              "      <th>Marital Status</th>\n",
              "      <th>Relationship</th>\n",
              "    </tr>\n",
              "  </thead>\n",
              "  <tbody>\n",
              "    <tr>\n",
              "      <th>0</th>\n",
              "      <td>State-gov</td>\n",
              "      <td>77516.0</td>\n",
              "      <td>2174.0</td>\n",
              "      <td>0.0</td>\n",
              "      <td>40.0</td>\n",
              "      <td>49084</td>\n",
              "      <td>&lt;=50K</td>\n",
              "      <td>39.0</td>\n",
              "      <td>Male</td>\n",
              "      <td>White</td>\n",
              "      <td>United-States</td>\n",
              "      <td>Bachelors</td>\n",
              "      <td>13.0</td>\n",
              "      <td>Never-married</td>\n",
              "      <td>Not-in-family</td>\n",
              "    </tr>\n",
              "    <tr>\n",
              "      <th>1</th>\n",
              "      <td>Self-emp-not-inc</td>\n",
              "      <td>83311.0</td>\n",
              "      <td>0.0</td>\n",
              "      <td>0.0</td>\n",
              "      <td>13.0</td>\n",
              "      <td>68553</td>\n",
              "      <td>&lt;=50K</td>\n",
              "      <td>50.0</td>\n",
              "      <td>Male</td>\n",
              "      <td>White</td>\n",
              "      <td>United-States</td>\n",
              "      <td>Bachelors</td>\n",
              "      <td>13.0</td>\n",
              "      <td>Married-civ-spouse</td>\n",
              "      <td>Husband</td>\n",
              "    </tr>\n",
              "    <tr>\n",
              "      <th>2</th>\n",
              "      <td>Private</td>\n",
              "      <td>215646.0</td>\n",
              "      <td>0.0</td>\n",
              "      <td>0.0</td>\n",
              "      <td>40.0</td>\n",
              "      <td>143654</td>\n",
              "      <td>&lt;=50K</td>\n",
              "      <td>38.0</td>\n",
              "      <td>Male</td>\n",
              "      <td>White</td>\n",
              "      <td>United-States</td>\n",
              "      <td>HS-grad</td>\n",
              "      <td>9.0</td>\n",
              "      <td>Divorced</td>\n",
              "      <td>Not-in-family</td>\n",
              "    </tr>\n",
              "    <tr>\n",
              "      <th>3</th>\n",
              "      <td>Private</td>\n",
              "      <td>234721.0</td>\n",
              "      <td>0.0</td>\n",
              "      <td>0.0</td>\n",
              "      <td>40.0</td>\n",
              "      <td>41510</td>\n",
              "      <td>&lt;=50K</td>\n",
              "      <td>53.0</td>\n",
              "      <td>Male</td>\n",
              "      <td>Black</td>\n",
              "      <td>United-States</td>\n",
              "      <td>11th</td>\n",
              "      <td>7.0</td>\n",
              "      <td>Married-civ-spouse</td>\n",
              "      <td>Husband</td>\n",
              "    </tr>\n",
              "    <tr>\n",
              "      <th>4</th>\n",
              "      <td>Private</td>\n",
              "      <td>338409.0</td>\n",
              "      <td>0.0</td>\n",
              "      <td>0.0</td>\n",
              "      <td>40.0</td>\n",
              "      <td>195025</td>\n",
              "      <td>&lt;=50K</td>\n",
              "      <td>28.0</td>\n",
              "      <td>Female</td>\n",
              "      <td>Black</td>\n",
              "      <td>Cuba</td>\n",
              "      <td>Bachelors</td>\n",
              "      <td>13.0</td>\n",
              "      <td>Married-civ-spouse</td>\n",
              "      <td>Wife</td>\n",
              "    </tr>\n",
              "  </tbody>\n",
              "</table>\n",
              "</div>\n",
              "      <button class=\"colab-df-convert\" onclick=\"convertToInteractive('df-63adbf6b-687f-4c3b-b498-3c588baed890')\"\n",
              "              title=\"Convert this dataframe to an interactive table.\"\n",
              "              style=\"display:none;\">\n",
              "        \n",
              "  <svg xmlns=\"http://www.w3.org/2000/svg\" height=\"24px\"viewBox=\"0 0 24 24\"\n",
              "       width=\"24px\">\n",
              "    <path d=\"M0 0h24v24H0V0z\" fill=\"none\"/>\n",
              "    <path d=\"M18.56 5.44l.94 2.06.94-2.06 2.06-.94-2.06-.94-.94-2.06-.94 2.06-2.06.94zm-11 1L8.5 8.5l.94-2.06 2.06-.94-2.06-.94L8.5 2.5l-.94 2.06-2.06.94zm10 10l.94 2.06.94-2.06 2.06-.94-2.06-.94-.94-2.06-.94 2.06-2.06.94z\"/><path d=\"M17.41 7.96l-1.37-1.37c-.4-.4-.92-.59-1.43-.59-.52 0-1.04.2-1.43.59L10.3 9.45l-7.72 7.72c-.78.78-.78 2.05 0 2.83L4 21.41c.39.39.9.59 1.41.59.51 0 1.02-.2 1.41-.59l7.78-7.78 2.81-2.81c.8-.78.8-2.07 0-2.86zM5.41 20L4 18.59l7.72-7.72 1.47 1.35L5.41 20z\"/>\n",
              "  </svg>\n",
              "      </button>\n",
              "      \n",
              "  <style>\n",
              "    .colab-df-container {\n",
              "      display:flex;\n",
              "      flex-wrap:wrap;\n",
              "      gap: 12px;\n",
              "    }\n",
              "\n",
              "    .colab-df-convert {\n",
              "      background-color: #E8F0FE;\n",
              "      border: none;\n",
              "      border-radius: 50%;\n",
              "      cursor: pointer;\n",
              "      display: none;\n",
              "      fill: #1967D2;\n",
              "      height: 32px;\n",
              "      padding: 0 0 0 0;\n",
              "      width: 32px;\n",
              "    }\n",
              "\n",
              "    .colab-df-convert:hover {\n",
              "      background-color: #E2EBFA;\n",
              "      box-shadow: 0px 1px 2px rgba(60, 64, 67, 0.3), 0px 1px 3px 1px rgba(60, 64, 67, 0.15);\n",
              "      fill: #174EA6;\n",
              "    }\n",
              "\n",
              "    [theme=dark] .colab-df-convert {\n",
              "      background-color: #3B4455;\n",
              "      fill: #D2E3FC;\n",
              "    }\n",
              "\n",
              "    [theme=dark] .colab-df-convert:hover {\n",
              "      background-color: #434B5C;\n",
              "      box-shadow: 0px 1px 3px 1px rgba(0, 0, 0, 0.15);\n",
              "      filter: drop-shadow(0px 1px 2px rgba(0, 0, 0, 0.3));\n",
              "      fill: #FFFFFF;\n",
              "    }\n",
              "  </style>\n",
              "\n",
              "      <script>\n",
              "        const buttonEl =\n",
              "          document.querySelector('#df-63adbf6b-687f-4c3b-b498-3c588baed890 button.colab-df-convert');\n",
              "        buttonEl.style.display =\n",
              "          google.colab.kernel.accessAllowed ? 'block' : 'none';\n",
              "\n",
              "        async function convertToInteractive(key) {\n",
              "          const element = document.querySelector('#df-63adbf6b-687f-4c3b-b498-3c588baed890');\n",
              "          const dataTable =\n",
              "            await google.colab.kernel.invokeFunction('convertToInteractive',\n",
              "                                                     [key], {});\n",
              "          if (!dataTable) return;\n",
              "\n",
              "          const docLinkHtml = 'Like what you see? Visit the ' +\n",
              "            '<a target=\"_blank\" href=https://colab.research.google.com/notebooks/data_table.ipynb>data table notebook</a>'\n",
              "            + ' to learn more about interactive tables.';\n",
              "          element.innerHTML = '';\n",
              "          dataTable['output_type'] = 'display_data';\n",
              "          await google.colab.output.renderOutput(dataTable, element);\n",
              "          const docLink = document.createElement('div');\n",
              "          docLink.innerHTML = docLinkHtml;\n",
              "          element.appendChild(docLink);\n",
              "        }\n",
              "      </script>\n",
              "    </div>\n",
              "  </div>\n",
              "  "
            ]
          },
          "metadata": {},
          "execution_count": 3
        }
      ]
    },
    {
      "cell_type": "code",
      "source": [
        "print(f\"tienen en comun {result.ID.count()}\")"
      ],
      "metadata": {
        "colab": {
          "base_uri": "https://localhost:8080/"
        },
        "id": "cZcdA0UzZfMl",
        "outputId": "7c5aaed5-b802-4c1e-9867-e338c7b3d2ba"
      },
      "execution_count": 4,
      "outputs": [
        {
          "output_type": "stream",
          "name": "stdout",
          "text": [
            "tienen en comun 48842\n"
          ]
        }
      ]
    },
    {
      "cell_type": "code",
      "source": [
        "diferente_id = pd.merge(w_data, p_data, on='ID',how='outer',indicator=True).query('_merge != \"both\"')\n",
        "diferente_id"
      ],
      "metadata": {
        "colab": {
          "base_uri": "https://localhost:8080/",
          "height": 81
        },
        "id": "uwPtaORxZwQK",
        "outputId": "57de44b5-4643-46f4-f073-3426d8591c35"
      },
      "execution_count": 5,
      "outputs": [
        {
          "output_type": "execute_result",
          "data": {
            "text/plain": [
              "           Workclass    fnlwgt  Capital Gain  Capital Loss  Hours per week  \\\n",
              "48842   Self-emp-inc  182148.0           0.0           0.0            60.0   \n",
              "\n",
              "               ID  Target  Age  Sex Race Country Education  Education-Num  \\\n",
              "48842  1344995623   >50K.  NaN  NaN  NaN     NaN       NaN            NaN   \n",
              "\n",
              "      Marital Status Relationship     _merge  \n",
              "48842            NaN          NaN  left_only  "
            ],
            "text/html": [
              "\n",
              "  <div id=\"df-ea48ea28-f4a3-4840-9cbf-c68c33eef381\">\n",
              "    <div class=\"colab-df-container\">\n",
              "      <div>\n",
              "<style scoped>\n",
              "    .dataframe tbody tr th:only-of-type {\n",
              "        vertical-align: middle;\n",
              "    }\n",
              "\n",
              "    .dataframe tbody tr th {\n",
              "        vertical-align: top;\n",
              "    }\n",
              "\n",
              "    .dataframe thead th {\n",
              "        text-align: right;\n",
              "    }\n",
              "</style>\n",
              "<table border=\"1\" class=\"dataframe\">\n",
              "  <thead>\n",
              "    <tr style=\"text-align: right;\">\n",
              "      <th></th>\n",
              "      <th>Workclass</th>\n",
              "      <th>fnlwgt</th>\n",
              "      <th>Capital Gain</th>\n",
              "      <th>Capital Loss</th>\n",
              "      <th>Hours per week</th>\n",
              "      <th>ID</th>\n",
              "      <th>Target</th>\n",
              "      <th>Age</th>\n",
              "      <th>Sex</th>\n",
              "      <th>Race</th>\n",
              "      <th>Country</th>\n",
              "      <th>Education</th>\n",
              "      <th>Education-Num</th>\n",
              "      <th>Marital Status</th>\n",
              "      <th>Relationship</th>\n",
              "      <th>_merge</th>\n",
              "    </tr>\n",
              "  </thead>\n",
              "  <tbody>\n",
              "    <tr>\n",
              "      <th>48842</th>\n",
              "      <td>Self-emp-inc</td>\n",
              "      <td>182148.0</td>\n",
              "      <td>0.0</td>\n",
              "      <td>0.0</td>\n",
              "      <td>60.0</td>\n",
              "      <td>1344995623</td>\n",
              "      <td>&gt;50K.</td>\n",
              "      <td>NaN</td>\n",
              "      <td>NaN</td>\n",
              "      <td>NaN</td>\n",
              "      <td>NaN</td>\n",
              "      <td>NaN</td>\n",
              "      <td>NaN</td>\n",
              "      <td>NaN</td>\n",
              "      <td>NaN</td>\n",
              "      <td>left_only</td>\n",
              "    </tr>\n",
              "  </tbody>\n",
              "</table>\n",
              "</div>\n",
              "      <button class=\"colab-df-convert\" onclick=\"convertToInteractive('df-ea48ea28-f4a3-4840-9cbf-c68c33eef381')\"\n",
              "              title=\"Convert this dataframe to an interactive table.\"\n",
              "              style=\"display:none;\">\n",
              "        \n",
              "  <svg xmlns=\"http://www.w3.org/2000/svg\" height=\"24px\"viewBox=\"0 0 24 24\"\n",
              "       width=\"24px\">\n",
              "    <path d=\"M0 0h24v24H0V0z\" fill=\"none\"/>\n",
              "    <path d=\"M18.56 5.44l.94 2.06.94-2.06 2.06-.94-2.06-.94-.94-2.06-.94 2.06-2.06.94zm-11 1L8.5 8.5l.94-2.06 2.06-.94-2.06-.94L8.5 2.5l-.94 2.06-2.06.94zm10 10l.94 2.06.94-2.06 2.06-.94-2.06-.94-.94-2.06-.94 2.06-2.06.94z\"/><path d=\"M17.41 7.96l-1.37-1.37c-.4-.4-.92-.59-1.43-.59-.52 0-1.04.2-1.43.59L10.3 9.45l-7.72 7.72c-.78.78-.78 2.05 0 2.83L4 21.41c.39.39.9.59 1.41.59.51 0 1.02-.2 1.41-.59l7.78-7.78 2.81-2.81c.8-.78.8-2.07 0-2.86zM5.41 20L4 18.59l7.72-7.72 1.47 1.35L5.41 20z\"/>\n",
              "  </svg>\n",
              "      </button>\n",
              "      \n",
              "  <style>\n",
              "    .colab-df-container {\n",
              "      display:flex;\n",
              "      flex-wrap:wrap;\n",
              "      gap: 12px;\n",
              "    }\n",
              "\n",
              "    .colab-df-convert {\n",
              "      background-color: #E8F0FE;\n",
              "      border: none;\n",
              "      border-radius: 50%;\n",
              "      cursor: pointer;\n",
              "      display: none;\n",
              "      fill: #1967D2;\n",
              "      height: 32px;\n",
              "      padding: 0 0 0 0;\n",
              "      width: 32px;\n",
              "    }\n",
              "\n",
              "    .colab-df-convert:hover {\n",
              "      background-color: #E2EBFA;\n",
              "      box-shadow: 0px 1px 2px rgba(60, 64, 67, 0.3), 0px 1px 3px 1px rgba(60, 64, 67, 0.15);\n",
              "      fill: #174EA6;\n",
              "    }\n",
              "\n",
              "    [theme=dark] .colab-df-convert {\n",
              "      background-color: #3B4455;\n",
              "      fill: #D2E3FC;\n",
              "    }\n",
              "\n",
              "    [theme=dark] .colab-df-convert:hover {\n",
              "      background-color: #434B5C;\n",
              "      box-shadow: 0px 1px 3px 1px rgba(0, 0, 0, 0.15);\n",
              "      filter: drop-shadow(0px 1px 2px rgba(0, 0, 0, 0.3));\n",
              "      fill: #FFFFFF;\n",
              "    }\n",
              "  </style>\n",
              "\n",
              "      <script>\n",
              "        const buttonEl =\n",
              "          document.querySelector('#df-ea48ea28-f4a3-4840-9cbf-c68c33eef381 button.colab-df-convert');\n",
              "        buttonEl.style.display =\n",
              "          google.colab.kernel.accessAllowed ? 'block' : 'none';\n",
              "\n",
              "        async function convertToInteractive(key) {\n",
              "          const element = document.querySelector('#df-ea48ea28-f4a3-4840-9cbf-c68c33eef381');\n",
              "          const dataTable =\n",
              "            await google.colab.kernel.invokeFunction('convertToInteractive',\n",
              "                                                     [key], {});\n",
              "          if (!dataTable) return;\n",
              "\n",
              "          const docLinkHtml = 'Like what you see? Visit the ' +\n",
              "            '<a target=\"_blank\" href=https://colab.research.google.com/notebooks/data_table.ipynb>data table notebook</a>'\n",
              "            + ' to learn more about interactive tables.';\n",
              "          element.innerHTML = '';\n",
              "          dataTable['output_type'] = 'display_data';\n",
              "          await google.colab.output.renderOutput(dataTable, element);\n",
              "          const docLink = document.createElement('div');\n",
              "          docLink.innerHTML = docLinkHtml;\n",
              "          element.appendChild(docLink);\n",
              "        }\n",
              "      </script>\n",
              "    </div>\n",
              "  </div>\n",
              "  "
            ]
          },
          "metadata": {},
          "execution_count": 5
        }
      ]
    },
    {
      "cell_type": "code",
      "source": [
        "print(f\"NO tienen en comun el id  {diferente_id.ID.values[0]}\")"
      ],
      "metadata": {
        "colab": {
          "base_uri": "https://localhost:8080/"
        },
        "id": "stvYw0WceRTz",
        "outputId": "f12fbb45-4d8d-40ba-c2d3-dcdb8028c14c"
      },
      "execution_count": 6,
      "outputs": [
        {
          "output_type": "stream",
          "name": "stdout",
          "text": [
            "NO tienen en comun el id  1344995623\n"
          ]
        }
      ]
    },
    {
      "cell_type": "markdown",
      "source": [
        "#2 Corregir los target a solo dos valores distintos ‘<=50k’ y ‘>50k’"
      ],
      "metadata": {
        "id": "rlKZmu8egtZa"
      }
    },
    {
      "cell_type": "code",
      "source": [
        "result.Target.unique()"
      ],
      "metadata": {
        "colab": {
          "base_uri": "https://localhost:8080/"
        },
        "id": "3Uaf5iXlgj2e",
        "outputId": "6c3fd310-b4d8-40d0-9051-8a185ae09af3"
      },
      "execution_count": 7,
      "outputs": [
        {
          "output_type": "execute_result",
          "data": {
            "text/plain": [
              "array([' <=50K', ' >50K', nan, ' <=50K.', ' >50K.'], dtype=object)"
            ]
          },
          "metadata": {},
          "execution_count": 7
        }
      ]
    },
    {
      "cell_type": "code",
      "source": [
        "result[result['Target'].isnull()]"
      ],
      "metadata": {
        "colab": {
          "base_uri": "https://localhost:8080/",
          "height": 81
        },
        "id": "zMM4AObUg8B3",
        "outputId": "9bf1017c-6037-4b71-cc76-24a77afca2e2"
      },
      "execution_count": 8,
      "outputs": [
        {
          "output_type": "execute_result",
          "data": {
            "text/plain": [
              "      Workclass  fnlwgt  Capital Gain  Capital Loss  Hours per week     ID  \\\n",
              "32561       NaN     NaN           NaN           NaN             NaN  37078   \n",
              "\n",
              "      Target  Age  Sex Race Country Education  Education-Num Marital Status  \\\n",
              "32561    NaN  NaN  NaN  NaN     NaN       NaN            NaN            NaN   \n",
              "\n",
              "      Relationship  \n",
              "32561          NaN  "
            ],
            "text/html": [
              "\n",
              "  <div id=\"df-eb58e94f-a2ca-4246-add8-2dfbeff0ffe8\">\n",
              "    <div class=\"colab-df-container\">\n",
              "      <div>\n",
              "<style scoped>\n",
              "    .dataframe tbody tr th:only-of-type {\n",
              "        vertical-align: middle;\n",
              "    }\n",
              "\n",
              "    .dataframe tbody tr th {\n",
              "        vertical-align: top;\n",
              "    }\n",
              "\n",
              "    .dataframe thead th {\n",
              "        text-align: right;\n",
              "    }\n",
              "</style>\n",
              "<table border=\"1\" class=\"dataframe\">\n",
              "  <thead>\n",
              "    <tr style=\"text-align: right;\">\n",
              "      <th></th>\n",
              "      <th>Workclass</th>\n",
              "      <th>fnlwgt</th>\n",
              "      <th>Capital Gain</th>\n",
              "      <th>Capital Loss</th>\n",
              "      <th>Hours per week</th>\n",
              "      <th>ID</th>\n",
              "      <th>Target</th>\n",
              "      <th>Age</th>\n",
              "      <th>Sex</th>\n",
              "      <th>Race</th>\n",
              "      <th>Country</th>\n",
              "      <th>Education</th>\n",
              "      <th>Education-Num</th>\n",
              "      <th>Marital Status</th>\n",
              "      <th>Relationship</th>\n",
              "    </tr>\n",
              "  </thead>\n",
              "  <tbody>\n",
              "    <tr>\n",
              "      <th>32561</th>\n",
              "      <td>NaN</td>\n",
              "      <td>NaN</td>\n",
              "      <td>NaN</td>\n",
              "      <td>NaN</td>\n",
              "      <td>NaN</td>\n",
              "      <td>37078</td>\n",
              "      <td>NaN</td>\n",
              "      <td>NaN</td>\n",
              "      <td>NaN</td>\n",
              "      <td>NaN</td>\n",
              "      <td>NaN</td>\n",
              "      <td>NaN</td>\n",
              "      <td>NaN</td>\n",
              "      <td>NaN</td>\n",
              "      <td>NaN</td>\n",
              "    </tr>\n",
              "  </tbody>\n",
              "</table>\n",
              "</div>\n",
              "      <button class=\"colab-df-convert\" onclick=\"convertToInteractive('df-eb58e94f-a2ca-4246-add8-2dfbeff0ffe8')\"\n",
              "              title=\"Convert this dataframe to an interactive table.\"\n",
              "              style=\"display:none;\">\n",
              "        \n",
              "  <svg xmlns=\"http://www.w3.org/2000/svg\" height=\"24px\"viewBox=\"0 0 24 24\"\n",
              "       width=\"24px\">\n",
              "    <path d=\"M0 0h24v24H0V0z\" fill=\"none\"/>\n",
              "    <path d=\"M18.56 5.44l.94 2.06.94-2.06 2.06-.94-2.06-.94-.94-2.06-.94 2.06-2.06.94zm-11 1L8.5 8.5l.94-2.06 2.06-.94-2.06-.94L8.5 2.5l-.94 2.06-2.06.94zm10 10l.94 2.06.94-2.06 2.06-.94-2.06-.94-.94-2.06-.94 2.06-2.06.94z\"/><path d=\"M17.41 7.96l-1.37-1.37c-.4-.4-.92-.59-1.43-.59-.52 0-1.04.2-1.43.59L10.3 9.45l-7.72 7.72c-.78.78-.78 2.05 0 2.83L4 21.41c.39.39.9.59 1.41.59.51 0 1.02-.2 1.41-.59l7.78-7.78 2.81-2.81c.8-.78.8-2.07 0-2.86zM5.41 20L4 18.59l7.72-7.72 1.47 1.35L5.41 20z\"/>\n",
              "  </svg>\n",
              "      </button>\n",
              "      \n",
              "  <style>\n",
              "    .colab-df-container {\n",
              "      display:flex;\n",
              "      flex-wrap:wrap;\n",
              "      gap: 12px;\n",
              "    }\n",
              "\n",
              "    .colab-df-convert {\n",
              "      background-color: #E8F0FE;\n",
              "      border: none;\n",
              "      border-radius: 50%;\n",
              "      cursor: pointer;\n",
              "      display: none;\n",
              "      fill: #1967D2;\n",
              "      height: 32px;\n",
              "      padding: 0 0 0 0;\n",
              "      width: 32px;\n",
              "    }\n",
              "\n",
              "    .colab-df-convert:hover {\n",
              "      background-color: #E2EBFA;\n",
              "      box-shadow: 0px 1px 2px rgba(60, 64, 67, 0.3), 0px 1px 3px 1px rgba(60, 64, 67, 0.15);\n",
              "      fill: #174EA6;\n",
              "    }\n",
              "\n",
              "    [theme=dark] .colab-df-convert {\n",
              "      background-color: #3B4455;\n",
              "      fill: #D2E3FC;\n",
              "    }\n",
              "\n",
              "    [theme=dark] .colab-df-convert:hover {\n",
              "      background-color: #434B5C;\n",
              "      box-shadow: 0px 1px 3px 1px rgba(0, 0, 0, 0.15);\n",
              "      filter: drop-shadow(0px 1px 2px rgba(0, 0, 0, 0.3));\n",
              "      fill: #FFFFFF;\n",
              "    }\n",
              "  </style>\n",
              "\n",
              "      <script>\n",
              "        const buttonEl =\n",
              "          document.querySelector('#df-eb58e94f-a2ca-4246-add8-2dfbeff0ffe8 button.colab-df-convert');\n",
              "        buttonEl.style.display =\n",
              "          google.colab.kernel.accessAllowed ? 'block' : 'none';\n",
              "\n",
              "        async function convertToInteractive(key) {\n",
              "          const element = document.querySelector('#df-eb58e94f-a2ca-4246-add8-2dfbeff0ffe8');\n",
              "          const dataTable =\n",
              "            await google.colab.kernel.invokeFunction('convertToInteractive',\n",
              "                                                     [key], {});\n",
              "          if (!dataTable) return;\n",
              "\n",
              "          const docLinkHtml = 'Like what you see? Visit the ' +\n",
              "            '<a target=\"_blank\" href=https://colab.research.google.com/notebooks/data_table.ipynb>data table notebook</a>'\n",
              "            + ' to learn more about interactive tables.';\n",
              "          element.innerHTML = '';\n",
              "          dataTable['output_type'] = 'display_data';\n",
              "          await google.colab.output.renderOutput(dataTable, element);\n",
              "          const docLink = document.createElement('div');\n",
              "          docLink.innerHTML = docLinkHtml;\n",
              "          element.appendChild(docLink);\n",
              "        }\n",
              "      </script>\n",
              "    </div>\n",
              "  </div>\n",
              "  "
            ]
          },
          "metadata": {},
          "execution_count": 8
        }
      ]
    },
    {
      "cell_type": "code",
      "source": [
        "result2 = result.drop(index=32561)"
      ],
      "metadata": {
        "id": "Ki6kVSHDhWWI"
      },
      "execution_count": 9,
      "outputs": []
    },
    {
      "cell_type": "code",
      "source": [
        "result2.Target.unique()"
      ],
      "metadata": {
        "colab": {
          "base_uri": "https://localhost:8080/"
        },
        "id": "lXQA8pbNiGHx",
        "outputId": "e51f1905-f867-4ee9-e59b-b28531c4758b"
      },
      "execution_count": 10,
      "outputs": [
        {
          "output_type": "execute_result",
          "data": {
            "text/plain": [
              "array([' <=50K', ' >50K', ' <=50K.', ' >50K.'], dtype=object)"
            ]
          },
          "metadata": {},
          "execution_count": 10
        }
      ]
    },
    {
      "cell_type": "code",
      "source": [
        "result2.Target= result2.Target.apply(lambda x: '>50k' if x[1] == '>' else '<=50k')"
      ],
      "metadata": {
        "id": "8uVF4rV6iIaQ"
      },
      "execution_count": 11,
      "outputs": []
    },
    {
      "cell_type": "code",
      "source": [
        "result2.Target.unique()"
      ],
      "metadata": {
        "colab": {
          "base_uri": "https://localhost:8080/"
        },
        "id": "Cacf1iOmjYPd",
        "outputId": "4f4f0913-e619-4998-a483-e857f48e1c11"
      },
      "execution_count": 12,
      "outputs": [
        {
          "output_type": "execute_result",
          "data": {
            "text/plain": [
              "array(['<=50k', '>50k'], dtype=object)"
            ]
          },
          "metadata": {},
          "execution_count": 12
        }
      ]
    },
    {
      "cell_type": "code",
      "source": [
        "result2.Target.value_counts()"
      ],
      "metadata": {
        "colab": {
          "base_uri": "https://localhost:8080/"
        },
        "id": "vd-Ic_BykS1j",
        "outputId": "bfd6e4b6-6c23-4612-db32-36217da9cee1"
      },
      "execution_count": 13,
      "outputs": [
        {
          "output_type": "execute_result",
          "data": {
            "text/plain": [
              "<=50k    37155\n",
              ">50k     11686\n",
              "Name: Target, dtype: int64"
            ]
          },
          "metadata": {},
          "execution_count": 13
        }
      ]
    },
    {
      "cell_type": "markdown",
      "source": [
        "#3 Calcular la proporción que hay entre personas con salarios >50k respecto del total para Entre personas de distinto sexo, Raza y Educacion. Por ejemplo cuál es el porcentaje de mujeres con un salario mayor a 50K y compararlo con el de los hombres. Lo mismo para personas de distintas razas y Educación\n"
      ],
      "metadata": {
        "id": "1qwQjBeglTYV"
      }
    },
    {
      "cell_type": "code",
      "source": [
        "values = result2.groupby(['Sex','Target']).count()['Workclass']\n",
        "values"
      ],
      "metadata": {
        "colab": {
          "base_uri": "https://localhost:8080/"
        },
        "id": "L29oB2qfnLkX",
        "outputId": "48dcdcbc-4a97-4965-bdf7-590c0e218912"
      },
      "execution_count": 14,
      "outputs": [
        {
          "output_type": "execute_result",
          "data": {
            "text/plain": [
              "Sex      Target\n",
              " Female  <=50k     14423\n",
              "         >50k       1769\n",
              " Male    <=50k     22732\n",
              "         >50k       9917\n",
              "Name: Workclass, dtype: int64"
            ]
          },
          "metadata": {},
          "execution_count": 14
        }
      ]
    },
    {
      "cell_type": "code",
      "source": [
        "total = result2.groupby('Target').count()['Workclass']['>50k']\n",
        "total"
      ],
      "metadata": {
        "colab": {
          "base_uri": "https://localhost:8080/"
        },
        "id": "1EC4NLlUMVoM",
        "outputId": "102c2c13-186b-4eae-f4f4-1b1962a3715e"
      },
      "execution_count": 15,
      "outputs": [
        {
          "output_type": "execute_result",
          "data": {
            "text/plain": [
              "11686"
            ]
          },
          "metadata": {},
          "execution_count": 15
        }
      ]
    },
    {
      "cell_type": "code",
      "source": [
        "#porcentaje de mujeres con un salario mayor a 50K\n",
        "values[1]/total"
      ],
      "metadata": {
        "colab": {
          "base_uri": "https://localhost:8080/"
        },
        "id": "lD5CTovNXWS8",
        "outputId": "650afaac-e69b-4caa-beb8-fc0c7a831eae"
      },
      "execution_count": 16,
      "outputs": [
        {
          "output_type": "execute_result",
          "data": {
            "text/plain": [
              "0.15137771692623653"
            ]
          },
          "metadata": {},
          "execution_count": 16
        }
      ]
    },
    {
      "cell_type": "code",
      "source": [
        "#porcentaje de hombres con un salario mayor a 50K\n",
        "values[3]/total"
      ],
      "metadata": {
        "colab": {
          "base_uri": "https://localhost:8080/"
        },
        "id": "0JRhqxvXXiXT",
        "outputId": "00d4f111-e682-410a-9488-8b20ae520257"
      },
      "execution_count": 17,
      "outputs": [
        {
          "output_type": "execute_result",
          "data": {
            "text/plain": [
              "0.8486222830737635"
            ]
          },
          "metadata": {},
          "execution_count": 17
        }
      ]
    },
    {
      "cell_type": "markdown",
      "source": [
        "Raza\n"
      ],
      "metadata": {
        "id": "VnHqP5LLYCTb"
      }
    },
    {
      "cell_type": "code",
      "source": [
        "values_race = result2.groupby(['Race','Target']).count()['Workclass']\n",
        "values_race"
      ],
      "metadata": {
        "colab": {
          "base_uri": "https://localhost:8080/"
        },
        "id": "FIbiAtlpnrGl",
        "outputId": "423038d7-47c2-46e7-dabd-943a5092c7a8"
      },
      "execution_count": 18,
      "outputs": [
        {
          "output_type": "execute_result",
          "data": {
            "text/plain": [
              "Race                 Target\n",
              " Amer-Indian-Eskimo  <=50k       415\n",
              "                     >50k         55\n",
              " Asian-Pac-Islander  <=50k      1110\n",
              "                     >50k        409\n",
              " Black               <=50k      4119\n",
              "                     >50k        566\n",
              " Other               <=50k       356\n",
              "                     >50k         50\n",
              " White               <=50k     31155\n",
              "                     >50k      10606\n",
              "Name: Workclass, dtype: int64"
            ]
          },
          "metadata": {},
          "execution_count": 18
        }
      ]
    },
    {
      "cell_type": "code",
      "source": [
        "values_race.index"
      ],
      "metadata": {
        "colab": {
          "base_uri": "https://localhost:8080/"
        },
        "id": "CEk4p5X7X-0R",
        "outputId": "6b557704-1698-417b-c112-af8b9884b143"
      },
      "execution_count": 19,
      "outputs": [
        {
          "output_type": "execute_result",
          "data": {
            "text/plain": [
              "MultiIndex([(' Amer-Indian-Eskimo', '<=50k'),\n",
              "            (' Amer-Indian-Eskimo',  '>50k'),\n",
              "            (' Asian-Pac-Islander', '<=50k'),\n",
              "            (' Asian-Pac-Islander',  '>50k'),\n",
              "            (             ' Black', '<=50k'),\n",
              "            (             ' Black',  '>50k'),\n",
              "            (             ' Other', '<=50k'),\n",
              "            (             ' Other',  '>50k'),\n",
              "            (             ' White', '<=50k'),\n",
              "            (             ' White',  '>50k')],\n",
              "           names=['Race', 'Target'])"
            ]
          },
          "metadata": {},
          "execution_count": 19
        }
      ]
    },
    {
      "cell_type": "code",
      "source": [
        "for index in values_race.index:\n",
        "  if index[1] == '<=50k':\n",
        "    continue\n",
        "  print(f'proporcion de {index[0]} con un salario mayor a 50k: {values_race[index]/total}')\n"
      ],
      "metadata": {
        "colab": {
          "base_uri": "https://localhost:8080/"
        },
        "id": "815THbcSasNw",
        "outputId": "01d5ce7a-23dc-4302-9a1a-01659f299ebe"
      },
      "execution_count": 33,
      "outputs": [
        {
          "output_type": "stream",
          "name": "stdout",
          "text": [
            "proporcion de  Amer-Indian-Eskimo con un salario mayor a 50k: 0.004706486393975698\n",
            "proporcion de  Asian-Pac-Islander con un salario mayor a 50k: 0.034999144275201094\n",
            "proporcion de  Black con un salario mayor a 50k: 0.04843402361800445\n",
            "proporcion de  Other con un salario mayor a 50k: 0.004278623994523361\n",
            "proporcion de  White con un salario mayor a 50k: 0.9075817217182954\n"
          ]
        }
      ]
    },
    {
      "cell_type": "markdown",
      "source": [
        "Educacion"
      ],
      "metadata": {
        "id": "VzCPK7AsJdgr"
      }
    },
    {
      "cell_type": "code",
      "source": [
        "values_educacion = result2.groupby(['Education','Target']).count()['Workclass']\n",
        "values_educacion"
      ],
      "metadata": {
        "colab": {
          "base_uri": "https://localhost:8080/"
        },
        "id": "oivNSFsIoTg4",
        "outputId": "57f70629-16f8-40bc-bdae-5529a92050e7"
      },
      "execution_count": 23,
      "outputs": [
        {
          "output_type": "execute_result",
          "data": {
            "text/plain": [
              "Education      Target\n",
              " 10th          <=50k      1302\n",
              "               >50k         87\n",
              " 11th          <=50k      1720\n",
              "               >50k         92\n",
              " 12th          <=50k       609\n",
              "               >50k         48\n",
              " 1st-4th       <=50k       239\n",
              "               >50k          8\n",
              " 5th-6th       <=50k       482\n",
              "               >50k         27\n",
              " 7th-8th       <=50k       893\n",
              "               >50k         62\n",
              " 9th           <=50k       715\n",
              "               >50k         41\n",
              " Assoc-acdm    <=50k      1188\n",
              "               >50k        413\n",
              " Assoc-voc     <=50k      1539\n",
              "               >50k        522\n",
              " Bachelors     <=50k      4712\n",
              "               >50k       3312\n",
              " Doctorate     <=50k       163\n",
              "               >50k        431\n",
              " HS-grad       <=50k     13281\n",
              "               >50k       2503\n",
              " Masters       <=50k      1198\n",
              "               >50k       1459\n",
              " Preschool     <=50k        82\n",
              "               >50k          1\n",
              " Prof-school   <=50k       217\n",
              "               >50k        617\n",
              " Some-college  <=50k      8815\n",
              "               >50k       2063\n",
              "Name: Workclass, dtype: int64"
            ]
          },
          "metadata": {},
          "execution_count": 23
        }
      ]
    },
    {
      "cell_type": "code",
      "source": [
        "for index in values_educacion.index:\n",
        "  if index[1] == '<=50k':\n",
        "    continue\n",
        "  porcentaje = (values_educacion[index]/total)\n",
        "  print(f'proporcion de {index[0]} con un salario mayor a 50k: {porcentaje} ')"
      ],
      "metadata": {
        "colab": {
          "base_uri": "https://localhost:8080/"
        },
        "id": "y8-ZTA2VpGkR",
        "outputId": "7f07bfa7-dbe8-4e48-8046-781e89c6989a"
      },
      "execution_count": 35,
      "outputs": [
        {
          "output_type": "stream",
          "name": "stdout",
          "text": [
            "proporcion de  10th con un salario mayor a 50k: 0.007444805750470649 \n",
            "proporcion de  11th con un salario mayor a 50k: 0.007872668149922985 \n",
            "proporcion de  12th con un salario mayor a 50k: 0.004107479034742427 \n",
            "proporcion de  1st-4th con un salario mayor a 50k: 0.0006845798391237378 \n",
            "proporcion de  5th-6th con un salario mayor a 50k: 0.002310456957042615 \n",
            "proporcion de  7th-8th con un salario mayor a 50k: 0.005305493753208968 \n",
            "proporcion de  9th con un salario mayor a 50k: 0.0035084716755091564 \n",
            "proporcion de  Assoc-acdm con un salario mayor a 50k: 0.03534143419476297 \n",
            "proporcion de  Assoc-voc con un salario mayor a 50k: 0.04466883450282389 \n",
            "proporcion de  Bachelors con un salario mayor a 50k: 0.2834160533972275 \n",
            "proporcion de  Doctorate con un salario mayor a 50k: 0.036881738832791375 \n",
            "proporcion de  HS-grad con un salario mayor a 50k: 0.21418791716583946 \n",
            "proporcion de  Masters con un salario mayor a 50k: 0.12485024816019168 \n",
            "proporcion de  Preschool con un salario mayor a 50k: 8.557247989046722e-05 \n",
            "proporcion de  Prof-school con un salario mayor a 50k: 0.05279822009241828 \n",
            "proporcion de  Some-college con un salario mayor a 50k: 0.1765360260140339 \n"
          ]
        }
      ]
    },
    {
      "cell_type": "code",
      "source": [
        ""
      ],
      "metadata": {
        "id": "8IlDBKWZoa4g"
      },
      "execution_count": 28,
      "outputs": []
    }
  ]
}