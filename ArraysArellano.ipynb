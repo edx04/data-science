{
  "nbformat": 4,
  "nbformat_minor": 0,
  "metadata": {
    "colab": {
      "name": "ArraysArellano.ipynb",
      "provenance": [],
      "authorship_tag": "ABX9TyNRT8keQ+YqE6mGORPIHtF+",
      "include_colab_link": true
    },
    "kernelspec": {
      "name": "python3",
      "display_name": "Python 3"
    },
    "language_info": {
      "name": "python"
    }
  },
  "cells": [
    {
      "cell_type": "markdown",
      "metadata": {
        "id": "view-in-github",
        "colab_type": "text"
      },
      "source": [
        "<a href=\"https://colab.research.google.com/github/edx04/data-science/blob/main/ArraysArellano.ipynb\" target=\"_parent\"><img src=\"https://colab.research.google.com/assets/colab-badge.svg\" alt=\"Open In Colab\"/></a>"
      ]
    },
    {
      "cell_type": "code",
      "execution_count": 2,
      "metadata": {
        "id": "m5AzvbTlQk7z"
      },
      "outputs": [],
      "source": [
        "import numpy as np"
      ]
    },
    {
      "cell_type": "code",
      "source": [
        "random_array = np.random.randint(10,size=100)"
      ],
      "metadata": {
        "id": "uHeO0aCpRBgu"
      },
      "execution_count": 3,
      "outputs": []
    },
    {
      "cell_type": "code",
      "source": [
        "np.median(random_array)"
      ],
      "metadata": {
        "colab": {
          "base_uri": "https://localhost:8080/"
        },
        "id": "mlWBcFL-SEtJ",
        "outputId": "89f12045-92d1-4127-e4ba-f2a5001b47ac"
      },
      "execution_count": 4,
      "outputs": [
        {
          "output_type": "execute_result",
          "data": {
            "text/plain": [
              "4.0"
            ]
          },
          "metadata": {},
          "execution_count": 4
        }
      ]
    },
    {
      "cell_type": "code",
      "source": [
        "def factorial(num):\n",
        "  return np.prod(np.arange(1,num + 1))"
      ],
      "metadata": {
        "id": "7QTo5be1TMa7"
      },
      "execution_count": 5,
      "outputs": []
    },
    {
      "cell_type": "code",
      "source": [
        "factorial(5)"
      ],
      "metadata": {
        "colab": {
          "base_uri": "https://localhost:8080/"
        },
        "id": "EAK9hwd4TzO6",
        "outputId": "f0f8b0d3-2613-4cb6-ba59-699db6848866"
      },
      "execution_count": 6,
      "outputs": [
        {
          "output_type": "execute_result",
          "data": {
            "text/plain": [
              "120"
            ]
          },
          "metadata": {},
          "execution_count": 6
        }
      ]
    },
    {
      "cell_type": "code",
      "source": [
        "def suma_serie(num1,num2):\n",
        "  return np.sum(np.arange(num1,num2 + 1))\n",
        "  "
      ],
      "metadata": {
        "id": "Kc7aSgMjUCKu"
      },
      "execution_count": 7,
      "outputs": []
    },
    {
      "cell_type": "code",
      "source": [
        "suma_serie(1,3)"
      ],
      "metadata": {
        "colab": {
          "base_uri": "https://localhost:8080/"
        },
        "id": "qft7rKBMT0-k",
        "outputId": "ff643542-9b93-4e6d-cb46-e9dbc60a80d3"
      },
      "execution_count": 8,
      "outputs": [
        {
          "output_type": "execute_result",
          "data": {
            "text/plain": [
              "6"
            ]
          },
          "metadata": {},
          "execution_count": 8
        }
      ]
    },
    {
      "cell_type": "code",
      "source": [
        "import pandas as pd\n",
        "\n"
      ],
      "metadata": {
        "id": "IepH8v1lUPLt"
      },
      "execution_count": 9,
      "outputs": []
    },
    {
      "cell_type": "code",
      "source": [
        "df = pd.read_excel('https://github.com/edx04/data-science/blob/main/Salarios%20Openqube.xlsx?raw=true')"
      ],
      "metadata": {
        "id": "taEHoPn6U7OV"
      },
      "execution_count": 10,
      "outputs": []
    },
    {
      "cell_type": "code",
      "source": [
        "lista_salario = df['Salario mensual NETO (en tu moneda local)'].astype(float).tolist()"
      ],
      "metadata": {
        "id": "a9jZVDXcY4aQ"
      },
      "execution_count": 16,
      "outputs": []
    },
    {
      "cell_type": "code",
      "source": [
        "mediana = np.median(lista_salario)"
      ],
      "metadata": {
        "id": "lhXByngxWmkk"
      },
      "execution_count": 18,
      "outputs": []
    },
    {
      "cell_type": "code",
      "source": [
        "media = np.mean(lista_salario)"
      ],
      "metadata": {
        "id": "2bWwH5gNXSR6"
      },
      "execution_count": 20,
      "outputs": []
    },
    {
      "cell_type": "code",
      "source": [
        "print(f\"La mediana de los salarios es {mediana} y la media de los datos es {media}\")"
      ],
      "metadata": {
        "colab": {
          "base_uri": "https://localhost:8080/"
        },
        "id": "DhGiT4blqFUs",
        "outputId": "7342ad71-6b70-4403-adf0-4e662dd6cc40"
      },
      "execution_count": 21,
      "outputs": [
        {
          "output_type": "stream",
          "name": "stdout",
          "text": [
            "La mediana de los salarios es 76000.0 y la media de los datos es 19309437.802131332\n"
          ]
        }
      ]
    },
    {
      "cell_type": "code",
      "source": [
        ""
      ],
      "metadata": {
        "id": "OGDRrFD0qUEH"
      },
      "execution_count": null,
      "outputs": []
    }
  ]
}